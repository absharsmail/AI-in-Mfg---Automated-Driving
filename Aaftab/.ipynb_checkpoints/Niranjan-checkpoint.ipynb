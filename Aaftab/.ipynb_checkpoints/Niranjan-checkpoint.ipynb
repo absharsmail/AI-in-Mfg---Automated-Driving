{
 "cells": [
  {
   "cell_type": "code",
   "execution_count": 8,
   "metadata": {},
   "outputs": [],
   "source": [
    "import numpy as np\n",
    "import pandas as pd\n",
    "\n",
    "from collections import Counter\n"
   ]
  },
  {
   "cell_type": "code",
   "execution_count": 30,
   "metadata": {},
   "outputs": [
    {
     "name": "stdout",
     "output_type": "stream",
     "text": [
      "training_data-3.npy 500\n",
      "training_data-4.npy 500\n",
      "training_data-5.npy 500\n",
      "training_data-6.npy 500\n",
      "training_data-7.npy 500\n",
      "training_data-8.npy 500\n",
      "training_data-9.npy 500\n",
      "training_data-10.npy 500\n",
      "training_data-11.npy 500\n",
      "training_data-12.npy 500\n",
      "training_data-13.npy 500\n",
      "training_data-14.npy 500\n",
      "training_data-15.npy 500\n",
      "training_data-16.npy 500\n",
      "training_data-17.npy 500\n",
      "training_data-18.npy 500\n",
      "training_data-19.npy 500\n",
      "training_data-20.npy 500\n",
      "training_data-21.npy 500\n",
      "training_data-22.npy 500\n",
      "training_data-23.npy 500\n",
      "training_data-24.npy 500\n",
      "training_data-25.npy 500\n",
      "training_data-26.npy 500\n",
      "training_data-27.npy 500\n",
      "training_data-28.npy 500\n",
      "training_data-29.npy 500\n",
      "training_data-30.npy 500\n",
      "training_data-31.npy 500\n",
      "training_data-32.npy 500\n",
      "training_data-33.npy 500\n",
      "training_data-34.npy 500\n",
      "training_data-35.npy 500\n",
      "training_data-36.npy 500\n",
      "training_data-37.npy 500\n",
      "training_data-38.npy 500\n",
      "training_data-39.npy 500\n",
      "training_data-40.npy 500\n",
      "training_data-41.npy 500\n",
      "training_data-42.npy 500\n",
      "training_data-43.npy 500\n",
      "training_data-44.npy 500\n",
      "training_data-45.npy 500\n",
      "training_data-46.npy 500\n",
      "training_data-47.npy 500\n",
      "training_data-48.npy 500\n",
      "training_data-49.npy 500\n",
      "training_data-50.npy 500\n",
      "training_data-51.npy 500\n",
      "training_data-52.npy 500\n",
      "training_data-53.npy 500\n",
      "training_data-54.npy 500\n",
      "training_data-55.npy 500\n",
      "training_data-56.npy 500\n",
      "training_data-57.npy 500\n",
      "training_data-58.npy 500\n",
      "training_data-59.npy 500\n",
      "training_data-60.npy 500\n",
      "training_data-61.npy 500\n",
      "training_data-62.npy 500\n"
     ]
    },
    {
     "ename": "FileNotFoundError",
     "evalue": "[Errno 2] No such file or directory: 'E:/New folder/Data/niranjan/training_data-63.npy'",
     "output_type": "error",
     "traceback": [
      "\u001b[1;31m---------------------------------------------------------------------------\u001b[0m",
      "\u001b[1;31mFileNotFoundError\u001b[0m                         Traceback (most recent call last)",
      "\u001b[1;32m<ipython-input-30-3e329789c92b>\u001b[0m in \u001b[0;36m<module>\u001b[1;34m\u001b[0m\n\u001b[0;32m      8\u001b[0m     \u001b[0mfile_name\u001b[0m \u001b[1;33m=\u001b[0m \u001b[1;34m'E:/New folder/Data/niranjan/training_data-{}.npy'\u001b[0m\u001b[1;33m.\u001b[0m\u001b[0mformat\u001b[0m\u001b[1;33m(\u001b[0m\u001b[0mi\u001b[0m\u001b[1;33m)\u001b[0m\u001b[1;33m\u001b[0m\u001b[1;33m\u001b[0m\u001b[0m\n\u001b[0;32m      9\u001b[0m     \u001b[1;31m# full file info\u001b[0m\u001b[1;33m\u001b[0m\u001b[1;33m\u001b[0m\u001b[1;33m\u001b[0m\u001b[0m\n\u001b[1;32m---> 10\u001b[1;33m     \u001b[0mtrain_data\u001b[0m \u001b[1;33m=\u001b[0m \u001b[0mnp\u001b[0m\u001b[1;33m.\u001b[0m\u001b[0mload\u001b[0m\u001b[1;33m(\u001b[0m\u001b[0mfile_name\u001b[0m\u001b[1;33m,\u001b[0m\u001b[0mallow_pickle\u001b[0m\u001b[1;33m=\u001b[0m\u001b[1;32mTrue\u001b[0m\u001b[1;33m)\u001b[0m\u001b[1;33m\u001b[0m\u001b[1;33m\u001b[0m\u001b[0m\n\u001b[0m\u001b[0;32m     11\u001b[0m     \u001b[0mtrain_data\u001b[0m\u001b[1;33m=\u001b[0m\u001b[0mpd\u001b[0m\u001b[1;33m.\u001b[0m\u001b[0mDataFrame\u001b[0m\u001b[1;33m(\u001b[0m\u001b[0mtrain_data\u001b[0m\u001b[1;33m)\u001b[0m\u001b[1;33m\u001b[0m\u001b[1;33m\u001b[0m\u001b[0m\n\u001b[0;32m     12\u001b[0m     \u001b[0mdata\u001b[0m\u001b[1;33m=\u001b[0m\u001b[0mtrain_data\u001b[0m\u001b[1;33m[\u001b[0m\u001b[0mtrain_data\u001b[0m\u001b[1;33m[\u001b[0m\u001b[1;36m1\u001b[0m\u001b[1;33m]\u001b[0m\u001b[1;33m!=\u001b[0m\u001b[1;34m'[0, 0, 0, 0, 0, 0, 0, 0, 1]'\u001b[0m\u001b[1;33m]\u001b[0m\u001b[1;33m\u001b[0m\u001b[1;33m\u001b[0m\u001b[0m\n",
      "\u001b[1;32mC:\\ProgramData\\Anaconda3\\lib\\site-packages\\numpy\\lib\\npyio.py\u001b[0m in \u001b[0;36mload\u001b[1;34m(file, mmap_mode, allow_pickle, fix_imports, encoding)\u001b[0m\n\u001b[0;32m    426\u001b[0m         \u001b[0mown_fid\u001b[0m \u001b[1;33m=\u001b[0m \u001b[1;32mFalse\u001b[0m\u001b[1;33m\u001b[0m\u001b[1;33m\u001b[0m\u001b[0m\n\u001b[0;32m    427\u001b[0m     \u001b[1;32melse\u001b[0m\u001b[1;33m:\u001b[0m\u001b[1;33m\u001b[0m\u001b[1;33m\u001b[0m\u001b[0m\n\u001b[1;32m--> 428\u001b[1;33m         \u001b[0mfid\u001b[0m \u001b[1;33m=\u001b[0m \u001b[0mopen\u001b[0m\u001b[1;33m(\u001b[0m\u001b[0mos_fspath\u001b[0m\u001b[1;33m(\u001b[0m\u001b[0mfile\u001b[0m\u001b[1;33m)\u001b[0m\u001b[1;33m,\u001b[0m \u001b[1;34m\"rb\"\u001b[0m\u001b[1;33m)\u001b[0m\u001b[1;33m\u001b[0m\u001b[1;33m\u001b[0m\u001b[0m\n\u001b[0m\u001b[0;32m    429\u001b[0m         \u001b[0mown_fid\u001b[0m \u001b[1;33m=\u001b[0m \u001b[1;32mTrue\u001b[0m\u001b[1;33m\u001b[0m\u001b[1;33m\u001b[0m\u001b[0m\n\u001b[0;32m    430\u001b[0m \u001b[1;33m\u001b[0m\u001b[0m\n",
      "\u001b[1;31mFileNotFoundError\u001b[0m: [Errno 2] No such file or directory: 'E:/New folder/Data/niranjan/training_data-63.npy'"
     ]
    }
   ],
   "source": [
    "file_name = 'E:/New folder/Data/niranjan/training_data-{}.npy'.format(1)\n",
    "# full file info\n",
    "train_data = np.load(file_name,allow_pickle=True)\n",
    "train_data=pd.DataFrame(train_data)\n",
    "data=train_data[train_data[1]!='[0, 0, 0, 0, 0, 0, 0, 0, 1]']\n",
    "c=Counter(data[1].apply(str))\n",
    "for i in range(3,67):\n",
    "    file_name = 'E:/New folder/Data/niranjan/training_data-{}.npy'.format(i)\n",
    "    # full file info\n",
    "    train_data = np.load(file_name,allow_pickle=True)\n",
    "    train_data=pd.DataFrame(train_data)\n",
    "    data=train_data[train_data[1]!=[0, 0, 0, 0, 0, 0, 0, 0, 1]]\n",
    "    print('training_data-{}.npy'.format(i),len(train_data))\n",
    "    c=c+Counter(data[1].apply(str))\n",
    "\n",
    "print(c)"
   ]
  },
  {
   "cell_type": "code",
   "execution_count": 24,
   "metadata": {},
   "outputs": [
    {
     "name": "stdout",
     "output_type": "stream",
     "text": [
      "Counter({'[0, 0, 0, 0, 0, 0, 0, 0, 1]': 13786, '[1, 0, 0, 0, 0, 0, 0, 0, 0]': 6799, '[0, 1, 0, 0, 0, 0, 0, 0, 0]': 2583, '[0, 0, 1, 0, 0, 0, 0, 0, 0]': 2150, '[0, 0, 0, 1, 0, 0, 0, 0, 0]': 2030, '[0, 0, 0, 0, 1, 0, 0, 0, 0]': 1767, '[0, 0, 0, 0, 0, 1, 0, 0, 0]': 990, '[0, 0, 0, 0, 0, 0, 1, 0, 0]': 370, '[0, 0, 0, 0, 0, 0, 0, 1, 0]': 25})\n"
     ]
    }
   ],
   "source": [
    "print(c)"
   ]
  },
  {
   "cell_type": "code",
   "execution_count": 31,
   "metadata": {},
   "outputs": [
    {
     "data": {
      "text/plain": [
       "Counter({'[0, 0, 0, 0, 0, 0, 0, 0, 1]': 13786,\n",
       "         '[1, 0, 0, 0, 0, 0, 0, 0, 0]': 6799,\n",
       "         '[0, 0, 0, 1, 0, 0, 0, 0, 0]': 2030,\n",
       "         '[0, 0, 1, 0, 0, 0, 0, 0, 0]': 2150,\n",
       "         '[0, 0, 0, 0, 1, 0, 0, 0, 0]': 1767,\n",
       "         '[0, 0, 0, 0, 0, 1, 0, 0, 0]': 990,\n",
       "         '[0, 1, 0, 0, 0, 0, 0, 0, 0]': 2583,\n",
       "         '[0, 0, 0, 0, 0, 0, 1, 0, 0]': 370,\n",
       "         '[0, 0, 0, 0, 0, 0, 0, 1, 0]': 25})"
      ]
     },
     "execution_count": 31,
     "metadata": {},
     "output_type": "execute_result"
    }
   ],
   "source": [
    "c"
   ]
  },
  {
   "cell_type": "code",
   "execution_count": 28,
   "metadata": {},
   "outputs": [],
   "source": [
    "data=train_data[train_data[1]!='[0, 0, 0, 0, 0, 0, 0, 0, 1]']"
   ]
  },
  {
   "cell_type": "code",
   "execution_count": 26,
   "metadata": {},
   "outputs": [
    {
     "data": {
      "text/html": [
       "<div>\n",
       "<style scoped>\n",
       "    .dataframe tbody tr th:only-of-type {\n",
       "        vertical-align: middle;\n",
       "    }\n",
       "\n",
       "    .dataframe tbody tr th {\n",
       "        vertical-align: top;\n",
       "    }\n",
       "\n",
       "    .dataframe thead th {\n",
       "        text-align: right;\n",
       "    }\n",
       "</style>\n",
       "<table border=\"1\" class=\"dataframe\">\n",
       "  <thead>\n",
       "    <tr style=\"text-align: right;\">\n",
       "      <th></th>\n",
       "      <th>0</th>\n",
       "      <th>1</th>\n",
       "    </tr>\n",
       "  </thead>\n",
       "  <tbody>\n",
       "    <tr>\n",
       "      <th>0</th>\n",
       "      <td>[[[255, 255, 255], [255, 255, 255], [101, 85, ...</td>\n",
       "      <td>[0, 0, 0, 0, 1, 0, 0, 0, 0]</td>\n",
       "    </tr>\n",
       "    <tr>\n",
       "      <th>1</th>\n",
       "      <td>[[[255, 255, 255], [255, 255, 255], [101, 85, ...</td>\n",
       "      <td>[0, 0, 0, 0, 1, 0, 0, 0, 0]</td>\n",
       "    </tr>\n",
       "    <tr>\n",
       "      <th>2</th>\n",
       "      <td>[[[255, 255, 255], [255, 255, 255], [101, 85, ...</td>\n",
       "      <td>[0, 0, 0, 0, 1, 0, 0, 0, 0]</td>\n",
       "    </tr>\n",
       "    <tr>\n",
       "      <th>3</th>\n",
       "      <td>[[[255, 255, 255], [255, 255, 255], [101, 85, ...</td>\n",
       "      <td>[0, 1, 0, 0, 0, 0, 0, 0, 0]</td>\n",
       "    </tr>\n",
       "    <tr>\n",
       "      <th>4</th>\n",
       "      <td>[[[255, 255, 255], [255, 255, 255], [101, 85, ...</td>\n",
       "      <td>[0, 1, 0, 0, 0, 0, 0, 0, 0]</td>\n",
       "    </tr>\n",
       "  </tbody>\n",
       "</table>\n",
       "</div>"
      ],
      "text/plain": [
       "                                                   0  \\\n",
       "0  [[[255, 255, 255], [255, 255, 255], [101, 85, ...   \n",
       "1  [[[255, 255, 255], [255, 255, 255], [101, 85, ...   \n",
       "2  [[[255, 255, 255], [255, 255, 255], [101, 85, ...   \n",
       "3  [[[255, 255, 255], [255, 255, 255], [101, 85, ...   \n",
       "4  [[[255, 255, 255], [255, 255, 255], [101, 85, ...   \n",
       "\n",
       "                             1  \n",
       "0  [0, 0, 0, 0, 1, 0, 0, 0, 0]  \n",
       "1  [0, 0, 0, 0, 1, 0, 0, 0, 0]  \n",
       "2  [0, 0, 0, 0, 1, 0, 0, 0, 0]  \n",
       "3  [0, 1, 0, 0, 0, 0, 0, 0, 0]  \n",
       "4  [0, 1, 0, 0, 0, 0, 0, 0, 0]  "
      ]
     },
     "execution_count": 26,
     "metadata": {},
     "output_type": "execute_result"
    }
   ],
   "source": [
    "train_data.head()"
   ]
  },
  {
   "cell_type": "code",
   "execution_count": 29,
   "metadata": {},
   "outputs": [
    {
     "data": {
      "text/plain": [
       "500"
      ]
     },
     "execution_count": 29,
     "metadata": {},
     "output_type": "execute_result"
    }
   ],
   "source": [
    "len(data)"
   ]
  },
  {
   "cell_type": "code",
   "execution_count": null,
   "metadata": {},
   "outputs": [],
   "source": []
  }
 ],
 "metadata": {
  "kernelspec": {
   "display_name": "Python 3",
   "language": "python",
   "name": "python3"
  },
  "language_info": {
   "codemirror_mode": {
    "name": "ipython",
    "version": 3
   },
   "file_extension": ".py",
   "mimetype": "text/x-python",
   "name": "python",
   "nbconvert_exporter": "python",
   "pygments_lexer": "ipython3",
   "version": "3.8.3"
  }
 },
 "nbformat": 4,
 "nbformat_minor": 4
}
