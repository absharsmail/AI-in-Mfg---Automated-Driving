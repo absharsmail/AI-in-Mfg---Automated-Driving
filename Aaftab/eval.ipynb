{
 "cells": [
  {
   "cell_type": "markdown",
   "metadata": {},
   "source": [
    "# Score For Random Neural Network For results1 GeneExpression"
   ]
  },
  {
   "cell_type": "code",
   "execution_count": 17,
   "metadata": {},
   "outputs": [
    {
     "name": "stdout",
     "output_type": "stream",
     "text": [
      "cuda:0\n"
     ]
    }
   ],
   "source": [
    "import pandas as pd\n",
    "import numpy as np\n",
    "\n",
    "import torch\n",
    "\n",
    "#imports necessary to define a neural network \n",
    "import torch.nn as nn\n",
    "import torch.nn.functional as F\n",
    "\n",
    "#ensure you are using GPU.\n",
    "if torch.cuda.is_available():  \n",
    "  dev = \"cuda:0\" \n",
    "else:  \n",
    "  dev = \"cpu\"  \n",
    "\n",
    "device = torch.device(dev)\n",
    "print(device)\n",
    "\n",
    "dtype = torch.cuda.FloatTensor"
   ]
  },
  {
   "cell_type": "code",
   "execution_count": 18,
   "metadata": {},
   "outputs": [],
   "source": [
    "import pandas as pd\n",
    "import numpy as np\n",
    "import tensorflow as tf\n",
    "from sklearn.model_selection import train_test_split\n",
    "\n",
    "trdt1=pd.read_csv('C:\\\\Users\\\\Ant Pc\\\\GitHub\\\\pROJ\\\\Genotype\\\\TrainingGenotype.csv')\n",
    "trdt=pd.read_csv('C:\\\\Users\\\\Ant Pc\\\\GitHub\\\\pROJ\\\\Geneexpression0\\\\traingeneexpression.csv',header=None)\n",
    "tstdt=pd.read_csv('C:\\\\Users\\\\Ant Pc\\\\GitHub\\\\pROJ\\\\Geneexpression0\\\\testgeneexpression.csv',header=None)\n",
    "\n",
    "tstdt=np.array(tstdt)\n",
    "tstdt=np.transpose(tstdt)\n",
    "tstdt=pd.DataFrame(tstdt)\n",
    "\n",
    "trdt=np.array(trdt)\n",
    "trdt=np.transpose(trdt)\n",
    "trdt=pd.DataFrame(trdt)\n",
    "\n",
    "results1=trdt1['Phenotype1']\n",
    "results2=trdt1['Phenotype2']\n",
    "\n",
    "testfeatures=tstdt\n",
    "\n",
    "#random input matrix\n",
    "nsamples=3000\n",
    "X=np.random.randn(nsamples,6)"
   ]
  },
  {
   "cell_type": "code",
   "execution_count": 19,
   "metadata": {},
   "outputs": [
    {
     "name": "stdout",
     "output_type": "stream",
     "text": [
      "Net1(\n",
      "  (rand): Linear(in_features=28395, out_features=1000, bias=True)\n",
      "  (fc1): Linear(in_features=1000, out_features=3200, bias=True)\n",
      "  (fc6): Linear(in_features=3200, out_features=1, bias=True)\n",
      ")\n"
     ]
    }
   ],
   "source": [
    "randmatr=pd.read_csv('C:/Users/Ant Pc/GitHub/CSB-PROJ/Randmatr.csv', header=None).values\n",
    "class Net1(nn.Module):\n",
    "\n",
    "    def __init__(self):\n",
    "        super(Net1, self).__init__()\n",
    "        \n",
    "        # an affine operation: y = Wx + b\n",
    "        \n",
    "        self.rand=nn.Linear(28395,1000).cuda()\n",
    "        self.fc1=nn.Linear(1000,3200).cuda()\n",
    "        self.fc6 = nn.Linear(3200,1).cuda()\n",
    "        \n",
    "        #set weights as random projection matrix\n",
    "        self.rand.weight.data = torch.transpose(torch.from_numpy(randmatr),0,1).type(dtype)\n",
    "        \n",
    "    def forward(self, x):\n",
    "        x = self.rand(x).cuda()\n",
    "        x = F.relu(x).cuda()\n",
    "        x = F.relu(self.fc1(x)).cuda()  \n",
    "        x = self.fc6(x).cuda()\n",
    "        \n",
    "        return x\n",
    "\n",
    "# Load\n",
    "PATH=\"C:/Users/Ant Pc/GitHub/CSB-PROJ/finetunedrandproj223.pt\"\n",
    "model = Net1()\n",
    "model.cuda()\n",
    "model.load_state_dict(torch.load(PATH))\n",
    "print(model)"
   ]
  },
  {
   "cell_type": "code",
   "execution_count": 20,
   "metadata": {
    "scrolled": true
   },
   "outputs": [
    {
     "data": {
      "text/plain": [
       "tensor([[22.5182],\n",
       "        [21.9931],\n",
       "        [22.7467],\n",
       "        [23.0400],\n",
       "        [22.7265],\n",
       "        [22.6154],\n",
       "        [22.8180],\n",
       "        [22.4691],\n",
       "        [23.1365],\n",
       "        [23.7675],\n",
       "        [22.9942],\n",
       "        [22.9694],\n",
       "        [22.7283],\n",
       "        [22.8931],\n",
       "        [23.9798],\n",
       "        [23.0947],\n",
       "        [22.9032],\n",
       "        [23.0008],\n",
       "        [22.9759],\n",
       "        [23.2112],\n",
       "        [22.8622],\n",
       "        [23.1588],\n",
       "        [22.9898],\n",
       "        [22.5035],\n",
       "        [22.8490],\n",
       "        [24.0814],\n",
       "        [22.3548],\n",
       "        [23.6831],\n",
       "        [22.3105],\n",
       "        [22.7259]], device='cuda:0', grad_fn=<AddmmBackward>)"
      ]
     },
     "execution_count": 20,
     "metadata": {},
     "output_type": "execute_result"
    }
   ],
   "source": [
    "model(torch.from_numpy(tstdt.values).type(dtype))"
   ]
  },
  {
   "cell_type": "code",
   "execution_count": 21,
   "metadata": {},
   "outputs": [
    {
     "name": "stdout",
     "output_type": "stream",
     "text": [
      "[21.526  25.665  20.076  20.297  18.941  11.919  18.4135 19.06   18.812\n",
      " 11.1865 20.435  11.601  18.7015 18.712  19.851  20.0065 21.0215 15.227\n",
      " 18.8225 19.793  15.52   22.5095 15.5185 25.125  20.675  21.085  19.6515\n",
      " 23.069  21.3445 21.8325]\n"
     ]
    }
   ],
   "source": [
    "#actual values\n",
    "gold=pd.read_csv('C:\\\\Users\\\\Ant Pc\\\\GitHub\\\\pROJ\\\\Genotype\\\\gold.csv', sep='\\t')\n",
    "gold.drop(gold.columns[-1],axis=1,inplace=True)\n",
    "\n",
    "import scipy.stats\n",
    "import math\n",
    "\n",
    "gold1=gold.iloc[1,:]\n",
    "gold1=gold1.values\n",
    "print(gold1)"
   ]
  },
  {
   "cell_type": "code",
   "execution_count": 22,
   "metadata": {},
   "outputs": [
    {
     "name": "stdout",
     "output_type": "stream",
     "text": [
      "(-0.20503403021662195, 0.27708207286156344)\n"
     ]
    }
   ],
   "source": [
    "dt1=np.transpose(gold1)\n",
    "dt1=np.reshape(dt1,[30])\n",
    "dt11=model(torch.from_numpy(tstdt.values).type(dtype)).cpu().detach().numpy()\n",
    "dt11=dt11.astype('float')\n",
    "dt1=dt1.astype('float')\n",
    "dt11=np.reshape(dt11,[30])\n",
    "\n",
    "score1=math.log(scipy.stats.pearsonr(dt1, dt11)[1])\n",
    "print(scipy.stats.pearsonr(dt1, dt11))"
   ]
  },
  {
   "cell_type": "code",
   "execution_count": 23,
   "metadata": {},
   "outputs": [
    {
     "name": "stdout",
     "output_type": "stream",
     "text": [
      "1.2834415247615791\n"
     ]
    }
   ],
   "source": [
    "print(-score1)"
   ]
  },
  {
   "cell_type": "markdown",
   "metadata": {},
   "source": [
    "C:/Users/Ant Pc/GitHub/CSB-PROJ/Randmatr1.csv\n",
    "C:/Users/Ant Pc/GitHub/CSB-PROJ/finetunedrandproj2.pt"
   ]
  },
  {
   "cell_type": "markdown",
   "metadata": {},
   "source": [
    "# Scores for Rest of ML algos along with Implementation"
   ]
  },
  {
   "cell_type": "code",
   "execution_count": 2,
   "metadata": {},
   "outputs": [],
   "source": [
    "import pandas as pd\n",
    "import numpy as np\n",
    "\n",
    "trdt1=pd.read_csv('E:/Git/Computational-Systems-Biology-Project/DREAM5 SYSTEMS GENETICS CHALLENGE/PART B/TrainingGenotype.csv')\n",
    "trdt=pd.read_csv('E:/Git/Computational-Systems-Biology-Project/DREAM5 SYSTEMS GENETICS CHALLENGE/PART B/DREAM5_SysGenB_TrainingData/DREAM5_SysGenB_TrainingExpressionData.csv')\n",
    "tstdt=pd.read_csv('E:/Git/Computational-Systems-Biology-Project/DREAM5 SYSTEMS GENETICS CHALLENGE/PART B/DREAM5_SysGenB_TestData/DREAM5_SysGenB2_TestExpressionData.csv')\n",
    "\n",
    "trdt.drop('A', axis=1, inplace=True)\n",
    "trdt=np.array(trdt)\n",
    "trdt=np.transpose(trdt)\n",
    "trdt=pd.DataFrame(trdt)\n",
    "\n",
    "tstdt.drop('A', axis=1, inplace=True)\n",
    "tstdt=np.array(tstdt)\n",
    "tstdt=np.transpose(tstdt)\n",
    "tstdt=pd.DataFrame(tstdt)\n",
    "\n",
    "features=trdt.copy()\n",
    "\n",
    "testfeatures=tstdt.copy()\n",
    "\n",
    "results1=trdt1['Phenotype1']\n",
    "results2=trdt1['Phenotype2']\n",
    "\n",
    "from sklearn import preprocessing\n",
    "standard= preprocessing.StandardScaler()\n",
    "\n",
    "features = standard.fit_transform(features)\n",
    "testfeatures=standard.fit_transform(testfeatures)\n",
    "\n",
    "features=pd.DataFrame(features)\n",
    "testfeatures=pd.DataFrame(testfeatures)"
   ]
  },
  {
   "cell_type": "code",
   "execution_count": 5,
   "metadata": {},
   "outputs": [
    {
     "name": "stdout",
     "output_type": "stream",
     "text": [
      "(-0.12892252913322905, 0.49715372195989077)\n",
      "(-0.1345260809162228, 0.4784781147214621)\n",
      "linear regression\n",
      "1.4360008073850459\n"
     ]
    }
   ],
   "source": [
    "#Linear Regression\n",
    "\n",
    "from sklearn import linear_model\n",
    "import math\n",
    "from math import sqrt\n",
    "from sklearn.metrics import mean_squared_error\n",
    "\n",
    "lmr = linear_model.LinearRegression()\n",
    "modellr = lmr.fit(features,results1)\n",
    "        \n",
    "predictions = modellr.predict(testfeatures)\n",
    "pred=pd.DataFrame(predictions)\n",
    "        \n",
    "pred.to_csv('LinearRegressionPredictions1.csv')\n",
    "\n",
    "lmr1 = linear_model.LinearRegression()\n",
    "modellr1 = lmr1.fit(features,results2)\n",
    "        \n",
    "predictions1 = modellr1.predict(testfeatures)\n",
    "pred1=pd.DataFrame(predictions1)\n",
    "        \n",
    "pred1.to_csv('LinearRegressionPredictions2.csv')\n",
    "predic1=pd.read_csv('C:/Users/Ant Pc/GitHub/CSBFinal/LinearRegressionPredictions1.csv')\n",
    "predic2=pd.read_csv('C:/Users/Ant Pc/GitHub/CSBFinal/LinearRegressionPredictions2.csv')\n",
    "\n",
    "\n",
    "gold1=gold.iloc[0,:]\n",
    "gold1=gold1.values\n",
    "\n",
    "gold2=gold.iloc[1,:]\n",
    "gold2=gold2.values\n",
    "\n",
    "dt1=np.transpose(gold1)\n",
    "dt11=predic1.iloc[:,1]\n",
    "\n",
    "dt2=np.transpose(gold2)\n",
    "dt22=predic2.iloc[:,1]\n",
    "\n",
    "print(scipy.stats.pearsonr(dt2, dt22))\n",
    "print(scipy.stats.pearsonr(dt1, dt11))\n",
    "print('linear regression')\n",
    "score=math.log(scipy.stats.pearsonr(dt1, dt11)[1])+math.log(scipy.stats.pearsonr(dt2, dt22)[1])\n",
    "print(-score)"
   ]
  },
  {
   "cell_type": "code",
   "execution_count": 10,
   "metadata": {},
   "outputs": [
    {
     "name": "stdout",
     "output_type": "stream",
     "text": [
      "(-0.032320167563577314, 0.8653665567055462)\n",
      "(0.0645359585556062, 0.7347516271148913)\n",
      "lasso regression\n",
      "0.4528248560063368\n"
     ]
    }
   ],
   "source": [
    "#Linear Regression\n",
    "\n",
    "from sklearn import linear_model\n",
    "import math\n",
    "from math import sqrt\n",
    "from sklearn.metrics import mean_squared_error\n",
    "\n",
    "lmr = linear_model.Lasso(alpha=0.1)\n",
    "modellr = lmr.fit(features,results1)\n",
    "        \n",
    "predictions = modellr.predict(testfeatures)\n",
    "pred=pd.DataFrame(predictions)\n",
    "        \n",
    "pred.to_csv('LassoRegressionPredictions1.csv')\n",
    "\n",
    "lmr1 = linear_model.Lasso(alpha=0.1)\n",
    "modellr1 = lmr1.fit(features,results2)\n",
    "        \n",
    "predictions1 = modellr1.predict(testfeatures)\n",
    "pred1=pd.DataFrame(predictions1)\n",
    "        \n",
    "pred1.to_csv('LassoRegressionPredictions2.csv')\n",
    "predic1=pd.read_csv('C:/Users/Ant Pc/GitHub/CSBFinal/LassoRegressionPredictions1.csv')\n",
    "predic2=pd.read_csv('C:/Users/Ant Pc/GitHub/CSBFinal/LassoRegressionPredictions2.csv')\n",
    "\n",
    "\n",
    "gold1=gold.iloc[0,:]\n",
    "gold1=gold1.values\n",
    "\n",
    "gold2=gold.iloc[1,:]\n",
    "gold2=gold2.values\n",
    "\n",
    "dt1=np.transpose(gold1)\n",
    "dt11=predic1.iloc[:,1]\n",
    "\n",
    "dt2=np.transpose(gold2)\n",
    "dt22=predic2.iloc[:,1]\n",
    "\n",
    "print(scipy.stats.pearsonr(dt2, dt22))\n",
    "print(scipy.stats.pearsonr(dt1, dt11))\n",
    "print('lasso regression')\n",
    "score=math.log(scipy.stats.pearsonr(dt1, dt11)[1])+math.log(scipy.stats.pearsonr(dt2, dt22)[1])\n",
    "print(-score)"
   ]
  },
  {
   "cell_type": "code",
   "execution_count": 11,
   "metadata": {},
   "outputs": [
    {
     "name": "stdout",
     "output_type": "stream",
     "text": [
      "(-0.24636018566764772, 0.18939563124699155)\n",
      "(-0.3745316539741392, 0.041437609288491134)\n",
      "DecisionTree regression\n",
      "4.8474835383838375\n"
     ]
    }
   ],
   "source": [
    "#Decision Tree Regressor\n",
    "from sklearn.tree import DecisionTreeRegressor\n",
    "import math\n",
    "from math import sqrt\n",
    "from sklearn.metrics import mean_squared_error\n",
    "\n",
    "lmr = DecisionTreeRegressor(criterion='mse')\n",
    "modellr = lmr.fit(features,results1)\n",
    "        \n",
    "predictions = modellr.predict(testfeatures)\n",
    "pred=pd.DataFrame(predictions)\n",
    "        \n",
    "pred.to_csv('DecisionTreeRegressionPredictions1.csv')\n",
    "\n",
    "lmr1 = DecisionTreeRegressor(criterion='mse')\n",
    "modellr1 = lmr1.fit(features,results2)\n",
    "        \n",
    "predictions1 = modellr1.predict(testfeatures)\n",
    "pred1=pd.DataFrame(predictions1)\n",
    "        \n",
    "pred1.to_csv('DecisionTreeRegressionPredictions2.csv')\n",
    "predic1=pd.read_csv('C:/Users/Ant Pc/GitHub/CSBFinal/DecisionTreeRegressionPredictions1.csv')\n",
    "predic2=pd.read_csv('C:/Users/Ant Pc/GitHub/CSBFinal/DecisionTreeRegressionPredictions2.csv')\n",
    "\n",
    "\n",
    "gold1=gold.iloc[0,:]\n",
    "gold1=gold1.values\n",
    "\n",
    "gold2=gold.iloc[1,:]\n",
    "gold2=gold2.values\n",
    "\n",
    "dt1=np.transpose(gold1)\n",
    "dt11=predic1.iloc[:,1]\n",
    "\n",
    "dt2=np.transpose(gold2)\n",
    "dt22=predic2.iloc[:,1]\n",
    "\n",
    "print(scipy.stats.pearsonr(dt2, dt22))\n",
    "print(scipy.stats.pearsonr(dt1, dt11))\n",
    "print('DecisionTree regression')\n",
    "score=math.log(scipy.stats.pearsonr(dt1, dt11)[1])+math.log(scipy.stats.pearsonr(dt2, dt22)[1])\n",
    "print(-score)"
   ]
  },
  {
   "cell_type": "code",
   "execution_count": 6,
   "metadata": {},
   "outputs": [
    {
     "name": "stdout",
     "output_type": "stream",
     "text": [
      "(-0.04909508315469259, 0.7966894843379564)\n",
      "(-0.4840547151063198, 0.006721092879772)\n",
      "RandomForest regression\n",
      "5.229794788458052\n"
     ]
    }
   ],
   "source": [
    "#Random Forest Regressor\n",
    "from sklearn.ensemble import RandomForestRegressor\n",
    "import math\n",
    "from math import sqrt\n",
    "from sklearn.metrics import mean_squared_error\n",
    "\n",
    "lmr = RandomForestRegressor(n_estimators = 100, random_state = 42)\n",
    "modellr = lmr.fit(features,results1)\n",
    "        \n",
    "predictions = modellr.predict(testfeatures)\n",
    "pred=pd.DataFrame(predictions)\n",
    "        \n",
    "pred.to_csv('RandomForestRegressionPredictions1.csv')\n",
    "\n",
    "lmr1 =RandomForestRegressor(n_estimators = 100, random_state = 42)\n",
    "modellr1 = lmr1.fit(features,results2)\n",
    "        \n",
    "predictions1 = modellr1.predict(testfeatures)\n",
    "pred1=pd.DataFrame(predictions1)\n",
    "        \n",
    "pred1.to_csv('RandomForestRegressionPredictions2.csv')\n",
    "predic1=pd.read_csv('C:/Users/Ant Pc/GitHub/CSBFinal/RandomForestRegressionPredictions1.csv')\n",
    "predic2=pd.read_csv('C:/Users/Ant Pc/GitHub/CSBFinal/RandomForestRegressionPredictions2.csv')\n",
    "\n",
    "\n",
    "gold1=gold.iloc[0,:]\n",
    "gold1=gold1.values\n",
    "\n",
    "gold2=gold.iloc[1,:]\n",
    "gold2=gold2.values\n",
    "\n",
    "dt1=np.transpose(gold1)\n",
    "dt11=predic1.iloc[:,1]\n",
    "\n",
    "dt2=np.transpose(gold2)\n",
    "dt22=predic2.iloc[:,1]\n",
    "\n",
    "print(scipy.stats.pearsonr(dt2, dt22))\n",
    "print(scipy.stats.pearsonr(dt1, dt11))\n",
    "print('RandomForest regression')\n",
    "score=math.log(scipy.stats.pearsonr(dt1, dt11)[1])+math.log(scipy.stats.pearsonr(dt2, dt22)[1])\n",
    "print(-score)"
   ]
  },
  {
   "cell_type": "code",
   "execution_count": 14,
   "metadata": {},
   "outputs": [
    {
     "name": "stdout",
     "output_type": "stream",
     "text": [
      "              0\n",
      "0      0.012051\n",
      "1      1.419691\n",
      "2      0.046810\n",
      "3      0.416242\n",
      "4      0.848606\n",
      "...         ...\n",
      "28390  1.235428\n",
      "28391  1.092103\n",
      "28392  1.141177\n",
      "28393  0.815176\n",
      "28394  0.122309\n",
      "\n",
      "[28395 rows x 1 columns]\n",
      "[0.]\n"
     ]
    },
    {
     "data": {
      "text/plain": [
       "array([20.421455])"
      ]
     },
     "execution_count": 14,
     "metadata": {},
     "output_type": "execute_result"
    }
   ],
   "source": [
    "p=pd.read_csv('C:/Users/Ant Pc/GitHub/CSB-Proj/1.csv', header=None)\n",
    "print(p)\n",
    "standard= preprocessing.StandardScaler()\n",
    "p=standard.fit_transform(p.values.T)\n",
    "print(p.T[1])\n",
    "modellr1.predict(p)"
   ]
  },
  {
   "cell_type": "code",
   "execution_count": 24,
   "metadata": {},
   "outputs": [
    {
     "data": {
      "text/plain": [
       "array([20.128055, 20.128055, 20.128055, 20.128055, 20.128055, 20.128055,\n",
       "       20.128055, 20.128055, 20.128055, 20.128055, 20.71477 , 20.128055,\n",
       "       20.128055, 20.128055, 20.128055, 20.128055, 20.128055, 20.128055,\n",
       "       20.128055, 20.128055, 20.128055, 20.128055, 20.128055, 20.1856  ,\n",
       "       20.128055, 20.128055, 20.128055, 20.219745, 20.128055, 20.128055])"
      ]
     },
     "execution_count": 24,
     "metadata": {},
     "output_type": "execute_result"
    }
   ],
   "source": [
    "modellr1.predict(tstdt)"
   ]
  },
  {
   "cell_type": "code",
   "execution_count": 26,
   "metadata": {},
   "outputs": [
    {
     "data": {
      "text/plain": [
       "tensor([[-0.0252]], device='cuda:0', grad_fn=<AddmmBackward>)"
      ]
     },
     "execution_count": 26,
     "metadata": {},
     "output_type": "execute_result"
    }
   ],
   "source": [
    "p=pd.read_csv('C:/Users/Ant Pc/GitHub/CSB-Proj/1.csv', header=None)\n",
    "model(torch.from_numpy(p.values.T).type(dtype))"
   ]
  },
  {
   "cell_type": "code",
   "execution_count": null,
   "metadata": {},
   "outputs": [],
   "source": []
  }
 ],
 "metadata": {
  "kernelspec": {
   "display_name": "Python 3",
   "language": "python",
   "name": "python3"
  },
  "language_info": {
   "codemirror_mode": {
    "name": "ipython",
    "version": 3
   },
   "file_extension": ".py",
   "mimetype": "text/x-python",
   "name": "python",
   "nbconvert_exporter": "python",
   "pygments_lexer": "ipython3",
   "version": "3.8.3"
  }
 },
 "nbformat": 4,
 "nbformat_minor": 4
}
