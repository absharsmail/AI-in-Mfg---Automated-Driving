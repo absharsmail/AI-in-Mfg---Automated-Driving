{
 "cells": [
  {
   "cell_type": "code",
   "execution_count": 1,
   "metadata": {},
   "outputs": [],
   "source": [
    "import numpy as np\n",
    "trdt1=[]\n",
    "trdt1=np.load('E:/v11/Copy of training_data-8.npy', allow_pickle=True)\n",
    "        \n",
    "for i in range(9,17):\n",
    "                file_name = 'E:/v11/Copy of training_data-{}.npy'.format(i)\n",
    "                # full file info\n",
    "                train_data = np.load(file_name,allow_pickle=True)\n",
    "                trdt1=np.concatenate((trdt1,train_data), axis=0)"
   ]
  },
  {
   "cell_type": "code",
   "execution_count": 2,
   "metadata": {},
   "outputs": [
    {
     "data": {
      "text/plain": [
       "4500"
      ]
     },
     "execution_count": 2,
     "metadata": {},
     "output_type": "execute_result"
    }
   ],
   "source": [
    "len(trdt1)"
   ]
  },
  {
   "cell_type": "code",
   "execution_count": 3,
   "metadata": {},
   "outputs": [],
   "source": [
    "o=o1=o2=o3=o4=o5=o6=o7=o8=0\n",
    "for i in range(len(trdt1)):\n",
    "    if np.argmax(trdt1[i,1])==0:\n",
    "        o=o+1\n",
    "    elif np.argmax(trdt1[i,1])==1:\n",
    "        o1=o1+1 \n",
    "    elif np.argmax(trdt1[i,1])==2:\n",
    "        o2=o1+1 \n",
    "    elif np.argmax(trdt1[i,1])==3:\n",
    "        o3=o1+1 \n",
    "    elif np.argmax(trdt1[i,1])==4:\n",
    "        o4=o1+1 \n",
    "    elif np.argmax(trdt1[i,1])==5:\n",
    "        o5=o1+1 \n",
    "    elif np.argmax(trdt1[i,1])==6:\n",
    "        o6=o1+1 \n",
    "    elif np.argmax(trdt1[i,1])==7:\n",
    "        o7=o1+1 \n",
    "    elif np.argmax(trdt1[i,1])==8:\n",
    "        o8=o8+1\n",
    "    "
   ]
  },
  {
   "cell_type": "code",
   "execution_count": 4,
   "metadata": {},
   "outputs": [
    {
     "name": "stdout",
     "output_type": "stream",
     "text": [
      "2475 26 27 22 27\n",
      "27 22 27 874\n"
     ]
    }
   ],
   "source": [
    "print(o,o1,o2,o3,o4)\n",
    "print(o5,o6,o7,o8)"
   ]
  },
  {
   "cell_type": "code",
   "execution_count": 2,
   "metadata": {},
   "outputs": [],
   "source": [
    "import numpy as np\n",
    "w=[]\n",
    "a=[]\n",
    "s=[]\n",
    "d=[]\n",
    "nk=[]\n",
    "d=[]\n",
    "o=o1=o2=o3=o4=o5=o6=o7=o8=0\n",
    "for l in range(4):\n",
    "        trdt=[]\n",
    "        X=[]\n",
    "        Y=[]\n",
    "        if l==0:\n",
    "        \n",
    "            trdt=np.load('E:/v11/Copy of training_data-1.npy', allow_pickle=True)\n",
    "        \n",
    "            for i in range(2,7):\n",
    "                file_name = 'E:/v11/Copy of training_data-{}.npy'.format(i)\n",
    "                # full file info\n",
    "                train_data = np.load(file_name,allow_pickle=True)\n",
    "                trdt=np.concatenate((trdt,train_data), axis=0)\n",
    "            \n",
    "            for i in range(17,62):\n",
    "                file_name = 'E:/v11/Copy of training_data-{}.npy'.format(i)\n",
    "                # full file info\n",
    "                train_data = np.load(file_name,allow_pickle=True)\n",
    "                trdt=np.concatenate((trdt,train_data), axis=0)\n",
    "        \n",
    "        elif l==1:\n",
    "        \n",
    "            trdt=np.load('E:/v11/Copy of training_data-63.npy', allow_pickle=True)\n",
    "\n",
    "            for i in range(64,111):\n",
    "                file_name = 'E:/v11/Copy of training_data-{}.npy'.format(i)\n",
    "                # full file info\n",
    "                train_data = np.load(file_name,allow_pickle=True)\n",
    "                trdt=np.concatenate((trdt,train_data), axis=0)\n",
    "                \n",
    "        elif l==2:\n",
    "        \n",
    "            trdt=np.load('E:/v12/training_data-111.npy', allow_pickle=True)\n",
    "\n",
    "            for i in range(111,150):\n",
    "                file_name = 'E:/v12/training_data-{}.npy'.format(i)\n",
    "                # full file info\n",
    "                train_data = np.load(file_name,allow_pickle=True)\n",
    "                trdt=np.concatenate((trdt,train_data), axis=0)\n",
    "        \n",
    "        elif l==3:\n",
    "        \n",
    "            trdt=np.load('E:/v12/training_data-150.npy', allow_pickle=True)\n",
    "\n",
    "            for i in range(150,189):\n",
    "                file_name = 'E:/v12/training_data-{}.npy'.format(i)\n",
    "                # full file info\n",
    "                train_data = np.load(file_name,allow_pickle=True)\n",
    "                trdt=np.concatenate((trdt,train_data), axis=0)\n",
    "        trdt1=trdt\n",
    "        \n",
    "        for i in range(len(trdt1)):\n",
    "            if True:\n",
    "                    \n",
    "                if np.argmax(trdt1[i,1])==0:\n",
    "                    o=o+1\n",
    "                elif np.argmax(trdt1[i,1])==1:\n",
    "                    o1=o1+1 \n",
    "                elif np.argmax(trdt1[i,1])==2:\n",
    "                    o2=o2+1 \n",
    "                elif np.argmax(trdt1[i,1])==3:\n",
    "                    o3=o3+1 \n",
    "                elif np.argmax(trdt1[i,1])==4:\n",
    "                    o4=o4+1 \n",
    "                elif np.argmax(trdt1[i,1])==5:\n",
    "                    o5=o5+1 \n",
    "                elif np.argmax(trdt1[i,1])==6:\n",
    "                    o6=o6+1 \n",
    "                elif np.argmax(trdt1[i,1])==7:\n",
    "                    o7=o7+1 \n",
    "                elif np.argmax(trdt1[i,1])==8:\n",
    "                    o8=o8+1\n"
   ]
  },
  {
   "cell_type": "code",
   "execution_count": 3,
   "metadata": {},
   "outputs": [
    {
     "name": "stdout",
     "output_type": "stream",
     "text": [
      "45653 451 7787 4606 6636\n",
      "5092 185 379 18711\n"
     ]
    }
   ],
   "source": [
    "print(o,o1,o2,o3,o4)\n",
    "print(o5,o6,o7,o8)"
   ]
  },
  {
   "cell_type": "code",
   "execution_count": null,
   "metadata": {},
   "outputs": [],
   "source": []
  }
 ],
 "metadata": {
  "kernelspec": {
   "display_name": "Python 3",
   "language": "python",
   "name": "python3"
  },
  "language_info": {
   "codemirror_mode": {
    "name": "ipython",
    "version": 3
   },
   "file_extension": ".py",
   "mimetype": "text/x-python",
   "name": "python",
   "nbconvert_exporter": "python",
   "pygments_lexer": "ipython3",
   "version": "3.8.3"
  }
 },
 "nbformat": 4,
 "nbformat_minor": 4
}
